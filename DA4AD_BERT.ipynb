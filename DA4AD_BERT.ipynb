{
  "cells": [
    {
      "cell_type": "markdown",
      "metadata": {
        "id": "li8MBA6FRK58"
      },
      "source": [
        "### Initial Setup"
      ]
    },
    {
      "cell_type": "code",
      "execution_count": null,
      "metadata": {
        "id": "5neAGIBuRC0g"
      },
      "outputs": [],
      "source": [
        "!pip install pylangacq\n",
        "!pip install transformers\n",
        "!pip install sentencepiece\n",
        "!pip install nlpaug\n",
        "!pip install datasets"
      ]
    },
    {
      "cell_type": "code",
      "execution_count": null,
      "metadata": {
        "id": "O4p5OmhGr5IN"
      },
      "outputs": [],
      "source": [
        "import torch\n",
        "import random\n",
        "import numpy as np\n",
        "import os\n",
        "import re\n",
        "import pylangacq\n",
        "import tqdm\n",
        "import gc\n",
        "import copy\n",
        "import csv\n",
        "from torch.nn import Softmax\n",
        "\n",
        "from transformers import BertTokenizer, BertForSequenceClassification, AdamW\n",
        "from transformers import Trainer, TrainingArguments\n",
        "from transformers import get_linear_schedule_with_warmup\n",
        "from sklearn.model_selection import train_test_split, KFold\n",
        "from torch.utils.data import Dataset, DataLoader\n",
        "import nlpaug.augmenter.word as naw\n",
        "from sklearn.utils import shuffle\n",
        "from sklearn.metrics import confusion_matrix\n",
        "from datasets import load_metric"
      ]
    },
    {
      "cell_type": "code",
      "execution_count": null,
      "metadata": {
        "id": "Fcb6uJdLWR9f"
      },
      "outputs": [],
      "source": [
        "# Set your working directory to wherever you have your data saved"
      ]
    },
    {
      "cell_type": "code",
      "execution_count": null,
      "metadata": {
        "id": "BujwvYw-QeM3"
      },
      "outputs": [],
      "source": [
        "from setup import torch_setup, set_seed\n",
        "from text_preprocessing import data_to_str, test_data_to_str\n",
        "from text_augmentation import mixup"
      ]
    },
    {
      "cell_type": "markdown",
      "metadata": {
        "id": "YhnMZpepSY2b"
      },
      "source": [
        "### Creating a Dataset"
      ]
    },
    {
      "cell_type": "code",
      "execution_count": null,
      "metadata": {
        "id": "uGVXOt2U6Jz4"
      },
      "outputs": [],
      "source": [
        "class Dataset_BERT(Dataset):\n",
        "\n",
        "    def __init__(self, ids, labels):\n",
        "        self.x_train = ids\n",
        "        self.y_train = labels\n",
        "\n",
        "    def __len__(self):\n",
        "        return len(self.y_train)\n",
        "\n",
        "    def __getitem__(self, item):\n",
        "        return self.x_train[item], self.y_train[item]"
      ]
    },
    {
      "cell_type": "markdown",
      "metadata": {
        "id": "LHQWA7jf_sK0"
      },
      "source": [
        "### Eval Functions"
      ]
    },
    {
      "cell_type": "code",
      "execution_count": null,
      "metadata": {
        "id": "wttHca5s_rU_"
      },
      "outputs": [],
      "source": [
        "def model_performance(output, target):\n",
        "    \"\"\"\n",
        "    Returns accuracy per batch, \n",
        "    i.e. if you get 8/10 right, this returns 0.8, NOT 8\n",
        "    \"\"\"\n",
        "    cf = confusion_matrix(target, output, labels=[0,1])\n",
        "    # print(cf)\n",
        "    tp, fp, fn, tn = cf[1][1], cf[0][1], cf[1][0], cf[0][0]\n",
        "\n",
        "    return tp, fp, fn, tn"
      ]
    },
    {
      "cell_type": "code",
      "execution_count": null,
      "metadata": {
        "id": "NYqAlZqG_uTB"
      },
      "outputs": [],
      "source": [
        "def eval(data_iter, model):\n",
        "    \"\"\"\n",
        "    Evaluating model performance on the dev set\n",
        "    \"\"\"\n",
        "    model.eval()\n",
        "    epoch_loss = 0\n",
        "    epoch_correct = 0\n",
        "    epoch_incorrect = 0\n",
        "    tps = 0\n",
        "    pred_all = []\n",
        "    trg_all = []\n",
        "    no_observations = 0\n",
        "\n",
        "    with torch.no_grad():\n",
        "        for batch in data_iter:\n",
        "            ids, labels = batch\n",
        "            ids, labels = ids.to(DEVICE), labels.to(DEVICE)\n",
        "            out = model(ids, labels = labels)\n",
        "\n",
        "            loss, preds = out[0], out[1]\n",
        "            no_observations += labels.shape[0]\n",
        "            \n",
        "            tp, fp, fn, tn = model_performance(\n",
        "                np.argmax(preds.detach().cpu().numpy(), axis=1), \n",
        "                labels.cpu().numpy())\n",
        "\n",
        "            epoch_loss += loss.item()*labels.shape[0]\n",
        "            tps += tp\n",
        "            epoch_correct += (tp+tn)\n",
        "            epoch_incorrect += (fn+fp)\n",
        "            pred_all.extend(preds.detach())\n",
        "            trg_all.extend(labels.detach())\n",
        "    acc = epoch_correct / no_observations\n",
        "    f1 = tps / (tps + 0.5*(epoch_incorrect))\n",
        "    loss = epoch_loss / no_observations\n",
        "\n",
        "    return loss, acc, f1"
      ]
    },
    {
      "cell_type": "markdown",
      "metadata": {
        "id": "FdkdK-_M_zv3"
      },
      "source": [
        "### Training Function"
      ]
    },
    {
      "cell_type": "code",
      "execution_count": null,
      "metadata": {
        "id": "IZsDfA75_zG9"
      },
      "outputs": [],
      "source": [
        "def train_model(model, tr_dataloader, vl_dataloader, epochs, optimizer, scheduler=None, val='val'):\n",
        "\n",
        "    train_acc = []\n",
        "    val_acc = []\n",
        "    val_f1 = []\n",
        "    for ep in range(epochs):\n",
        "        model.train()\n",
        "        epoch_loss = 0\n",
        "        epoch_correct = 0\n",
        "        no_observations = 0\n",
        "\n",
        "        for i, batch in enumerate(tr_dataloader):\n",
        "\n",
        "            ids, labels = batch\n",
        "            ids, labels = ids.to(DEVICE), labels.to(DEVICE)\n",
        "            optimizer.zero_grad()\n",
        "            out = model(ids, labels=labels)\n",
        "\n",
        "            del ids\n",
        "            gc.collect()\n",
        "            torch.cuda.empty_cache()\n",
        "            \n",
        "            loss = out[0]\n",
        "            loss.backward()\n",
        "            optimizer.step()\n",
        "    \n",
        "            if scheduler:\n",
        "                scheduler.step()\n",
        "            optimizer.zero_grad()\n",
        "\n",
        "            preds = out[1].detach().cpu().numpy()\n",
        "            tp, fp, fn, tn = model_performance(np.argmax(preds, axis=1), labels.cpu().numpy())\n",
        "            epoch_loss += loss.item()*labels.shape[0]\n",
        "            no_observations += labels.shape[0]\n",
        "            epoch_correct += (tp+tn)\n",
        "\n",
        "        # eval\n",
        "        valid_loss, valid_acc, valid_f1 = eval(vl_dataloader, model)\n",
        "        epoch_loss, epoch_acc = epoch_loss / no_observations, epoch_correct / no_observations\n",
        "        train_acc.append(epoch_acc)\n",
        "        val_acc.append(valid_acc)\n",
        "        val_f1.append(valid_f1)\n",
        "\n",
        "        if val == 'val':\n",
        "            print(f'| Epoch: {ep+1} | Train Loss: {epoch_loss:.4f} | Train Accuracy: {epoch_acc:.4f} | \\\n",
        "            Val. Loss: {valid_loss:.4f} | Val. Accuracy: {valid_acc:.4f} |')\n",
        "        elif val == 'test':\n",
        "            print(f'| Epoch: {ep+1} | Train Loss: {epoch_loss:.4f} | Train Accuracy: {epoch_acc:.4f} | \\\n",
        "            Test Loss: {valid_loss:.4f} | Test Accuracy: {valid_acc:.4f} |')\n",
        "\n",
        "    performance = dict()\n",
        "    performance['train'] = train_acc\n",
        "    performance[val] = [val_acc, val_f1]\n",
        "\n",
        "    return performance"
      ]
    },
    {
      "cell_type": "markdown",
      "metadata": {
        "id": "T1YkrIVdj2ZM"
      },
      "source": [
        "### CV Setup"
      ]
    },
    {
      "cell_type": "code",
      "execution_count": null,
      "metadata": {
        "id": "2l5xo9QFj9BQ"
      },
      "outputs": [],
      "source": [
        "### Train loop\n",
        "\n",
        "def train_bert_cv(data, train_labels, bert_type='base', augment=True, max_len=256, \n",
        "                  warmup=0.12, lr=2e-05, num_epochs=8, batch_size=4, seed=1, \n",
        "                  aug_data_size=1):\n",
        "    labels = copy.deepcopy(train_labels)\n",
        "\n",
        "    # define some constants\n",
        "    N_SPLITS=10\n",
        "    DEVICE = torch_setup()\n",
        "    special_tokens_dict = {'additional_special_tokens': ['...']}\n",
        "\n",
        "    # Set random seed & set device\n",
        "    set_seed(seed)\n",
        "\n",
        "\n",
        "    cv_results, acc_ep_val, acc_ep_tr = dict(), dict(), dict()\n",
        "    cv_results_t = dict()\n",
        "    results, results_f1, test_results, test_results_f1 = [], [], [], []\n",
        "    \n",
        "    for i in range(num_epochs):\n",
        "        acc_ep_val[i] = [] \n",
        "        acc_ep_tr[i] = []\n",
        "\n",
        "    kf = KFold(n_splits=N_SPLITS, shuffle=True, random_state=seed)\n",
        "\n",
        "    if bert_type == \"base\":\n",
        "        tokenizer = BertTokenizer.from_pretrained('bert-base-uncased')\n",
        "    elif bert_type ==\"large\":\n",
        "        tokenizer = BertTokenizer.from_pretrained('bert-large-uncased')\n",
        "    tokenizer.add_special_tokens(special_tokens_dict)\n",
        "\n",
        "    for i, (train_idx, val_idx) in enumerate(kf.split(dataset)):\n",
        "        gc.collect()\n",
        "        torch.cuda.empty_cache()\n",
        "\n",
        "        train_data, val_data = [dataset[i] for i in train_idx], [dataset[i] for i in val_idx]\n",
        "        train_labels, val_labels = [labels[i] for i in train_idx], [labels[i] for i in val_idx]\n",
        "\n",
        "        if augment == True:\n",
        "            assert aug_data_size == len(aug_dataset)//len(labels)\n",
        "            for i in range(aug_data_size):\n",
        "\n",
        "                aug_data = [aug_dataset[idx+(i*108)] for idx in train_idx if type(aug_dataset[idx]) == str]\n",
        "                aug_labels = [labels[idx] for idx in train_idx if type(aug_dataset[idx]) == str]\n",
        "            \n",
        "                train_data.extend(aug_data)\n",
        "                train_labels.extend(aug_labels)\n",
        "\n",
        "        train_data, train_labels = shuffle(train_data, train_labels, random_state=seed)\n",
        "        val_data, val_labels = shuffle(val_data, val_labels, random_state=seed)\n",
        "\n",
        "        train_embedding = tokenizer(train_data, max_length = max_len, \n",
        "                                    padding='max_length', truncation=True, \n",
        "                                    return_tensors='pt')\n",
        "        val_embedding = tokenizer(val_data, max_length = max_len, \n",
        "                                    padding='max_length', truncation=True, \n",
        "                                    return_tensors='pt')\n",
        "        test_embedding = tokenizer(test_data, max_length = max_len, \n",
        "                                    padding='max_length', truncation=True, \n",
        "                                    return_tensors='pt')\n",
        "\n",
        "        train_dataset = Dataset_BERT(train_embedding[\"input_ids\"], \n",
        "                                    torch.tensor(train_labels))\n",
        "\n",
        "        val_dataset = Dataset_BERT(val_embedding[\"input_ids\"], \n",
        "                                torch.tensor(val_labels))\n",
        "        \n",
        "        test_dataset = Dataset_BERT(test_embedding[\"input_ids\"], \n",
        "                                    torch.tensor(test_labels))\n",
        "\n",
        "        gc.collect()\n",
        "        torch.cuda.empty_cache()\n",
        "\n",
        "        train_dataloader = DataLoader(train_dataset, batch_size=batch_size)\n",
        "        val_dataloader = DataLoader(val_dataset, batch_size=batch_size)\n",
        "        test_dataloader = DataLoader(test_dataset, batch_size=batch_size)\n",
        "\n",
        "        if bert_type == \"base\":\n",
        "            bert_model = BertForSequenceClassification.from_pretrained(\"bert-base-uncased\",\n",
        "                                                                    num_labels = 2)\n",
        "        elif bert_type ==\"large\":\n",
        "            bert_model = BertForSequenceClassification.from_pretrained(\"bert-large-uncased\",\n",
        "                                                                    num_labels = 2)\n",
        "\n",
        "        bert_model.to(DEVICE)\n",
        "\n",
        "        optimizer = AdamW(bert_model.parameters(), lr=lr)\n",
        "\n",
        "        total_steps = len(train_dataloader) * num_epochs\n",
        "        wu = warmup\n",
        "        wu_steps = int(total_steps * wu)\n",
        "        scheduler = get_linear_schedule_with_warmup(optimizer, num_warmup_steps = wu_steps,\n",
        "                                                    num_training_steps = total_steps)\n",
        "\n",
        "        torch.cuda.empty_cache()\n",
        "        performances = train_model(bert_model, train_dataloader, val_dataloader, num_epochs, optimizer, scheduler)\n",
        "        test_loss, test_acc, test_f1 = eval(test_dataloader, bert_model)\n",
        "\n",
        "        cv_results[i] = performances\n",
        "\n",
        "        results.append(performances[\"val\"][0][-1])\n",
        "        results_f1.append(performances[\"val\"][1][-1])\n",
        "        test_results.append(test_acc)\n",
        "        test_results_f1.append(test_f1)\n",
        "\n",
        "        for i in range(num_epochs):\n",
        "            acc_ep_val[i].append(performances[\"val\"][0][i])\n",
        "            acc_ep_tr[i].append(performances[\"train\"][i])\n",
        "    \n",
        "    for i in range(num_epochs):\n",
        "        val_accuracy = sum(acc_ep_val[i])/len(acc_ep_val[i])\n",
        "        train_accuracy = sum(acc_ep_tr[i])/len(acc_ep_tr[i])\n",
        "\n",
        "    return results"
      ]
    },
    {
      "cell_type": "code",
      "execution_count": null,
      "metadata": {
        "id": "Z-0CSBP7USpF"
      },
      "outputs": [],
      "source": [
        "### Train loop\n",
        "\n",
        "def train_bert_test(train_data, train_labels, test_data, test_labels, num_epochs=8, \n",
        "                    batch_size=4, bert_type='base', max_len=256, lr=2e-05, \n",
        "                    warmup=0.12, augment=True, save_models=False, seed=1, \n",
        "                    aug_data_size=1):\n",
        "    \n",
        "    tr_labels = copy.deepcopy(train_labels)\n",
        "    tr_data = copy.deepcopy(train_data)\n",
        "\n",
        "    special_tokens_dict = {'additional_special_tokens': ['...']}\n",
        "\n",
        "    # Set random seed & set device\n",
        "    set_seed(seed)\n",
        "\n",
        "    cv_results, acc_ep_tr = dict(), dict()\n",
        "    cv_results_t = dict()\n",
        "    results, results_f1, test_results, test_results_f1 = [], [], [], []\n",
        "    \n",
        "    for i in range(num_epochs):\n",
        "        acc_ep_tr[i] = []\n",
        "\n",
        "    if bert_type == \"base\":\n",
        "        tokenizer = BertTokenizer.from_pretrained('bert-base-uncased')\n",
        "    elif bert_type ==\"large\":\n",
        "        tokenizer = BertTokenizer.from_pretrained('bert-large-uncased')\n",
        "    tokenizer.add_special_tokens(special_tokens_dict)\n",
        "\n",
        "    if augment:\n",
        "        print(len(aug_dataset))\n",
        "        print(len(tr_labels))\n",
        "        print(len(aug_dataset)//len(tr_labels))\n",
        "        assert aug_data_size == len(aug_dataset)//len(tr_labels)\n",
        "        for i in range(aug_data_size):\n",
        "            # print(i)\n",
        "            # print(len(labels))\n",
        "            # print(len(aug_dataset))\n",
        "            aug_data = [aug_dataset[idx+(i*108)] for idx in list(range(108)) if type(aug_dataset[idx]) == str]\n",
        "            aug_labels = [tr_labels[idx] for idx in list(range(len(aug_dataset)//aug_data_size)) if type(aug_dataset[idx]) == str]\n",
        "            # print(len(aug_data))\n",
        "            # print(len(aug_labels))\n",
        "\n",
        "            tr_data.extend(aug_data)\n",
        "            tr_labels.extend(aug_labels)\n",
        "\n",
        "    train_data, train_labels = shuffle(tr_data, tr_labels, random_state=seed)\n",
        "\n",
        "    train_embedding = tokenizer(train_data, max_length = max_len, \n",
        "                                padding='max_length', truncation=True, \n",
        "                                return_tensors='pt')\n",
        "\n",
        "    test_embedding = tokenizer(test_data, max_length = max_len, \n",
        "                                padding='max_length', truncation=True, \n",
        "                                return_tensors='pt')\n",
        "\n",
        "    train_dataset = Dataset_BERT(train_embedding[\"input_ids\"], \n",
        "                                torch.tensor(train_labels))\n",
        "    \n",
        "    test_dataset = Dataset_BERT(test_embedding[\"input_ids\"], \n",
        "                                torch.tensor(test_labels))\n",
        "\n",
        "    train_dataloader = DataLoader(train_dataset, batch_size=batch_size)\n",
        "    test_dataloader = DataLoader(test_dataset, batch_size=batch_size)\n",
        "\n",
        "    if bert_type == \"base\":\n",
        "        bert_model = BertForSequenceClassification.from_pretrained(\"bert-base-uncased\",\n",
        "                                                                num_labels = 2)\n",
        "    elif bert_type ==\"large\":\n",
        "        bert_model = BertForSequenceClassification.from_pretrained(\"bert-large-uncased\",\n",
        "                                                                num_labels = 2)\n",
        "\n",
        "    bert_model.to(DEVICE)\n",
        "\n",
        "    optimizer = AdamW(bert_model.parameters(), lr=lr)\n",
        "\n",
        "    total_steps = len(train_dataloader) * num_epochs\n",
        "    wu = warmup\n",
        "    wu_steps = int(total_steps * wu)\n",
        "    scheduler = get_linear_schedule_with_warmup(optimizer, num_warmup_steps = wu_steps,\n",
        "                                                num_training_steps = total_steps)\n",
        "\n",
        "    performances = train_model(bert_model, train_dataloader, test_dataloader, num_epochs, optimizer, scheduler)\n",
        "    test_loss, test_acc, test_f1 = eval(test_dataloader, bert_model)\n",
        "\n",
        "    if save_models:\n",
        "        torch.save(bert_model, f'bert_250821_{seed}.h5')\n",
        "\n",
        "    cv_results[i] = performances\n",
        "\n",
        "    test_results.append(test_acc)\n",
        "    test_results_f1.append(test_f1)\n",
        "\n",
        "    for i in range(num_epochs):\n",
        "        acc_ep_tr[i].append(performances[\"train\"][i])\n",
        "\n",
        "    for i in range(num_epochs):\n",
        "        train_accuracy = sum(acc_ep_tr[i])/len(acc_ep_tr[i])\n",
        "    \n",
        "    return bert_model"
      ]
    },
    {
      "cell_type": "markdown",
      "metadata": {
        "id": "V69K7HPompGH"
      },
      "source": [
        "### Eval"
      ]
    },
    {
      "cell_type": "code",
      "execution_count": null,
      "metadata": {
        "id": "KysMZz0MnGrT"
      },
      "outputs": [],
      "source": [
        "def eval_text(dict_by_id, model, labels, csv_filename, result_dict=None, \n",
        "              save=False):\n",
        "    \"\"\"\n",
        "    Evaluating model performance on the dev set\n",
        "    \"\"\"\n",
        "    if result_dict == None:\n",
        "        result_dict = dict()\n",
        "    model.eval()\n",
        "    tokenizer = BertTokenizer.from_pretrained('bert-base-uncased')\n",
        "    with torch.no_grad():\n",
        "        for i, idx in enumerate(dict_by_id.keys()):\n",
        "            embedding = tokenizer(dict_by_id[idx], max_length = 256, \n",
        "                                  padding='max_length', truncation=True, \n",
        "                                  return_tensors='pt')\n",
        "            label = torch.tensor(labels[i]).to(DEVICE)\n",
        "            ids = embedding['input_ids'].to(DEVICE)\n",
        "            ids.unsqueeze(0)\n",
        "            out = model(ids, labels = label)\n",
        "            loss, preds = out[0], out[1]\n",
        "\n",
        "            result_dict[idx] = Softmax()(preds.squeeze().detach().cpu()).numpy()\n",
        "\n",
        "            # print(f\"{idx} PREDICTION: {Softmax()(preds.detach().cpu()).numpy()} LABEL: {labels[i]}\")\n",
        "            \n",
        "    if save == True:\n",
        "        with open(csv_filename, 'w') as f:\n",
        "            w = csv.DictWriter(f, result_dict.keys())\n",
        "            w.writeheader()\n",
        "            w.writerow(result_dict)"
      ]
    },
    {
      "cell_type": "markdown",
      "metadata": {
        "id": "dNr5ZoG3D-iX"
      },
      "source": [
        "### Main"
      ]
    },
    {
      "cell_type": "code",
      "execution_count": null,
      "metadata": {
        "colab": {
          "background_save": true,
          "base_uri": "https://localhost:8080/"
        },
        "id": "N_Ihtod7EAl3",
        "outputId": "01bc851f-1bbb-4c79-e1cd-56e4ee83d596"
      },
      "outputs": [
        {
          "name": "stdout",
          "output_type": "stream",
          "text": [
            "Torch version: 1.10.0+cu111, CUDA: 11.1\n"
          ]
        }
      ],
      "source": [
        "DEVICE = torch_setup()\n",
        "\n",
        "# Set path to folder txt files with ids by cls\n",
        "PATH = 'path'\n",
        "\n",
        "# Load the ids of AD subjects into a list\n",
        "with open(f'{PATH}/audio_filenames_dementia.txt', \"r\") as clf:\n",
        "    lines = clf.readlines()\n",
        "ids_ad = [re.sub('\\n', '', line) for line in lines]\n",
        "\n",
        "# Load the ids of Control subjects into a list\n",
        "with open(f'{PATH}/audio_filenames_control.txt', \"r\") as clf:\n",
        "    lines = clf.readlines()\n",
        "ids_hc = [re.sub('\\n', '', line) for line in lines]\n",
        "\n",
        "path_ad = 'path_to_ad_data'\n",
        "path_hc = 'path_to_hc_data'\n",
        "test_path = 'path_to_test_data'\n",
        "test_id_path = 'path_to_a_txt_file_with_test_sample_labels'\n",
        "\n",
        "data_ad, labels_ad, aug_dataset_ad = data_to_str(ids_ad, path_ad, AD_flag=1,\n",
        "                                                 augment=False) \n",
        "data_hc, labels_hc, aug_dataset_hc = data_to_str(ids_hc, path_hc, AD_flag=0,\n",
        "                                                 augment=False)\n",
        "\n",
        "dataset, labels, aug_dataset = [], [], []\n",
        "\n",
        "dataset.extend(data_ad)\n",
        "dataset.extend(data_hc)\n",
        "\n",
        "aug_dataset.extend(aug_dataset_ad)\n",
        "aug_dataset.extend(aug_dataset_hc)\n",
        "\n",
        "aug_labels = []\n",
        "aug_labels.extend(labels_ad)\n",
        "aug_labels.extend(labels_hc)\n",
        "\n",
        "labels.extend(labels_ad)\n",
        "labels.extend(labels_hc)\n",
        "\n",
        "test_data, test_labels, dict_by_id = test_data_to_str(test_id_path, test_path, \n",
        "                                                      return_dict=True)"
      ]
    },
    {
      "cell_type": "code",
      "execution_count": null,
      "metadata": {
        "id": "Kk7gji4nHQXE"
      },
      "outputs": [],
      "source": [
        "for i in range(1, 6):\n",
        "    print(\"SEED \", i)\n",
        "    bert_model = train_bert_test(dataset, labels, test_data, test_labels, \n",
        "                                 aug_data_size=0, seed=i)\n",
        "    "
      ]
    }
  ],
  "metadata": {
    "accelerator": "GPU",
    "colab": {
      "collapsed_sections": [
        "QUgY0aYIIWZQ",
        "l115-Vk_B60h",
        "JWwXeOkGOGJP",
        "0AabZ2VwALc5",
        "T1YkrIVdj2ZM"
      ],
      "name": "DA4AD_BERT.ipynb",
      "provenance": [],
      "toc_visible": true
    },
    "kernelspec": {
      "display_name": "Python 3",
      "name": "python3"
    },
    "language_info": {
      "name": "python"
    }
  },
  "nbformat": 4,
  "nbformat_minor": 0
}